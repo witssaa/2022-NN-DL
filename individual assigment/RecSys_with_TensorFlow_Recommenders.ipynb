{
  "cells": [
    {
      "cell_type": "code",
      "source": [
        "from google.colab import drive\n",
        "drive.mount('/content/drive/')"
      ],
      "metadata": {
        "colab": {
          "base_uri": "https://localhost:8080/"
        },
        "id": "21gO9j8jGoh-",
        "outputId": "e11686ac-94ef-4f4a-bac0-48e109f9f817"
      },
      "execution_count": 1,
      "outputs": [
        {
          "output_type": "stream",
          "name": "stdout",
          "text": [
            "Drive already mounted at /content/drive/; to attempt to forcibly remount, call drive.mount(\"/content/drive/\", force_remount=True).\n"
          ]
        }
      ]
    },
    {
      "cell_type": "code",
      "source": [
        "%cd /content/drive/My Drive/data/"
      ],
      "metadata": {
        "colab": {
          "base_uri": "https://localhost:8080/"
        },
        "id": "JdzoYHzYGw2B",
        "outputId": "bed30b7e-e08e-41de-bf31-0d5d612334a4"
      },
      "execution_count": 2,
      "outputs": [
        {
          "output_type": "stream",
          "name": "stdout",
          "text": [
            "/content/drive/My Drive/data\n"
          ]
        }
      ]
    },
    {
      "cell_type": "code",
      "execution_count": 3,
      "metadata": {
        "id": "ZMPFNUmV_uBD"
      },
      "outputs": [],
      "source": [
        "import warnings\n",
        "from ast import literal_eval\n",
        "from datetime import datetime\n",
        "from typing import Dict, Text\n",
        "\n",
        "import numpy as np\n",
        "import pandas as pd\n",
        "import tensorflow as tf\n",
        "import tensorflow_recommenders as tfrs\n",
        "\n",
        "tf.random.set_seed(42)\n",
        "warnings.filterwarnings('ignore')"
      ]
    },
    {
      "cell_type": "code",
      "source": [
        "def get_text(text, obj='name'):\n",
        "    text = literal_eval(text)\n",
        "\n",
        "    if len(text) == 1:\n",
        "        for i in text:\n",
        "            return i[obj]\n",
        "    else:\n",
        "        s = []\n",
        "        for i in text:\n",
        "            s.append(i[obj])\n",
        "        return ', '.join(s)"
      ],
      "metadata": {
        "id": "TxmZNqOkwKXf"
      },
      "execution_count": 4,
      "outputs": []
    },
    {
      "cell_type": "code",
      "execution_count": 5,
      "metadata": {
        "id": "YgUnv3Ys5ui1"
      },
      "outputs": [],
      "source": [
        "credits = pd.read_csv('credits.csv')\n",
        "keywords = pd.read_csv('keywords.csv')\n",
        "movies = pd.read_csv('movies_metadata.csv')\n",
        "ratings_df = pd.read_csv('ratings_small.csv')"
      ]
    },
    {
      "cell_type": "code",
      "execution_count": 6,
      "metadata": {
        "id": "5IGGjSB6_5Xd"
      },
      "outputs": [],
      "source": [
        "movies.drop(['belongs_to_collection', 'homepage', 'imdb_id', 'poster_path', 'status', 'title', 'video'], axis=1, inplace=True)\n",
        "movies.drop([19730, 29503, 35587], inplace=True)\n",
        "movies['id'] = movies['id'].astype('int64')\n",
        "\n",
        "df = movies.merge(keywords, on='id').merge(credits, on='id')\n",
        "df['original_language'] = df['original_language'].fillna('')\n",
        "df['runtime'] = df['runtime'].fillna(0)\n",
        "df['tagline'] = df['tagline'].fillna('')\n",
        "df.dropna(inplace=True)\n",
        "\n",
        "df['genres'] = df['genres'].apply(get_text)\n",
        "df['production_companies'] = df['production_companies'].apply(get_text)\n",
        "df['production_countries'] = df['production_countries'].apply(get_text)\n",
        "df['crew'] = df['crew'].apply(get_text)\n",
        "df['spoken_languages'] = df['spoken_languages'].apply(get_text)\n",
        "df['keywords'] = df['keywords'].apply(get_text)\n",
        "df['characters'] = df['cast'].apply(get_text, obj='character')\n",
        "df['actors'] = df['cast'].apply(get_text)\n",
        "\n",
        "df.drop('cast', axis=1, inplace=True)\n",
        "df = df[~df['original_title'].duplicated()]\n",
        "df = df.reset_index(drop=True)\n",
        "\n",
        "ratings_df['date'] = ratings_df['timestamp'].apply(\n",
        "    lambda x: datetime.fromtimestamp(x))\n",
        "ratings_df.drop('timestamp', axis=1, inplace=True)\n",
        "\n",
        "ratings_df = ratings_df.merge(\n",
        "    df[['id', 'original_title', 'genres', 'overview']], left_on='movieId', right_on='id', how='left')\n",
        "ratings_df = ratings_df[~ratings_df['id'].isna()]\n",
        "ratings_df.drop('id', axis=1, inplace=True)\n",
        "ratings_df.reset_index(drop=True, inplace=True)\n",
        "\n",
        "movies_df = df[['id', 'original_title']]\n",
        "movies_df.rename(columns={'id': 'movieId'}, inplace=True)"
      ]
    },
    {
      "cell_type": "code",
      "source": [
        "df.head(3)"
      ],
      "metadata": {
        "colab": {
          "base_uri": "https://localhost:8080/",
          "height": 567
        },
        "id": "n-utJ-OsTPcD",
        "outputId": "323d77d7-249f-411d-d818-62f50f89855d"
      },
      "execution_count": 7,
      "outputs": [
        {
          "output_type": "execute_result",
          "data": {
            "text/plain": [
              "   adult    budget                      genres     id original_language  \\\n",
              "0  False  30000000   Animation, Comedy, Family    862                en   \n",
              "1  False  65000000  Adventure, Fantasy, Family   8844                en   \n",
              "2  False         0             Romance, Comedy  15602                en   \n",
              "\n",
              "     original_title                                           overview  \\\n",
              "0         Toy Story  Led by Woody, Andy's toys live happily in his ...   \n",
              "1           Jumanji  When siblings Judy and Peter discover an encha...   \n",
              "2  Grumpier Old Men  A family wedding reignites the ancient feud be...   \n",
              "\n",
              "  popularity                               production_companies  \\\n",
              "0  21.946943                            Pixar Animation Studios   \n",
              "1  17.015539  TriStar Pictures, Teitler Film, Interscope Com...   \n",
              "2    11.7129                       Warner Bros., Lancaster Gate   \n",
              "\n",
              "       production_countries  ...      revenue  runtime   spoken_languages  \\\n",
              "0  United States of America  ...  373554033.0     81.0            English   \n",
              "1  United States of America  ...  262797249.0    104.0  English, Français   \n",
              "2  United States of America  ...          0.0    101.0            English   \n",
              "\n",
              "                                             tagline vote_average  vote_count  \\\n",
              "0                                                             7.7      5415.0   \n",
              "1          Roll the dice and unleash the excitement!          6.9      2413.0   \n",
              "2  Still Yelling. Still Fighting. Still Ready for...          6.5        92.0   \n",
              "\n",
              "                                            keywords  \\\n",
              "0  jealousy, toy, boy, friendship, friends, rival...   \n",
              "1  board game, disappearance, based on children's...   \n",
              "2  fishing, best friend, duringcreditsstinger, ol...   \n",
              "\n",
              "                                                crew  \\\n",
              "0  John Lasseter, Joss Whedon, Andrew Stanton, Jo...   \n",
              "1  Larry J. Franco, Jonathan Hensleigh, James Hor...   \n",
              "2  Howard Deutch, Mark Steven Johnson, Mark Steve...   \n",
              "\n",
              "                                          characters  \\\n",
              "0  Woody (voice), Buzz Lightyear (voice), Mr. Pot...   \n",
              "1  Alan Parrish, Samuel Alan Parrish / Van Pelt, ...   \n",
              "2  Max Goldman, John Gustafson, Ariel Gustafson, ...   \n",
              "\n",
              "                                              actors  \n",
              "0  Tom Hanks, Tim Allen, Don Rickles, Jim Varney,...  \n",
              "1  Robin Williams, Jonathan Hyde, Kirsten Dunst, ...  \n",
              "2  Walter Matthau, Jack Lemmon, Ann-Margret, Soph...  \n",
              "\n",
              "[3 rows x 21 columns]"
            ],
            "text/html": [
              "\n",
              "  <div id=\"df-a63d2350-b713-45fc-9ae2-251cf2215d63\">\n",
              "    <div class=\"colab-df-container\">\n",
              "      <div>\n",
              "<style scoped>\n",
              "    .dataframe tbody tr th:only-of-type {\n",
              "        vertical-align: middle;\n",
              "    }\n",
              "\n",
              "    .dataframe tbody tr th {\n",
              "        vertical-align: top;\n",
              "    }\n",
              "\n",
              "    .dataframe thead th {\n",
              "        text-align: right;\n",
              "    }\n",
              "</style>\n",
              "<table border=\"1\" class=\"dataframe\">\n",
              "  <thead>\n",
              "    <tr style=\"text-align: right;\">\n",
              "      <th></th>\n",
              "      <th>adult</th>\n",
              "      <th>budget</th>\n",
              "      <th>genres</th>\n",
              "      <th>id</th>\n",
              "      <th>original_language</th>\n",
              "      <th>original_title</th>\n",
              "      <th>overview</th>\n",
              "      <th>popularity</th>\n",
              "      <th>production_companies</th>\n",
              "      <th>production_countries</th>\n",
              "      <th>...</th>\n",
              "      <th>revenue</th>\n",
              "      <th>runtime</th>\n",
              "      <th>spoken_languages</th>\n",
              "      <th>tagline</th>\n",
              "      <th>vote_average</th>\n",
              "      <th>vote_count</th>\n",
              "      <th>keywords</th>\n",
              "      <th>crew</th>\n",
              "      <th>characters</th>\n",
              "      <th>actors</th>\n",
              "    </tr>\n",
              "  </thead>\n",
              "  <tbody>\n",
              "    <tr>\n",
              "      <th>0</th>\n",
              "      <td>False</td>\n",
              "      <td>30000000</td>\n",
              "      <td>Animation, Comedy, Family</td>\n",
              "      <td>862</td>\n",
              "      <td>en</td>\n",
              "      <td>Toy Story</td>\n",
              "      <td>Led by Woody, Andy's toys live happily in his ...</td>\n",
              "      <td>21.946943</td>\n",
              "      <td>Pixar Animation Studios</td>\n",
              "      <td>United States of America</td>\n",
              "      <td>...</td>\n",
              "      <td>373554033.0</td>\n",
              "      <td>81.0</td>\n",
              "      <td>English</td>\n",
              "      <td></td>\n",
              "      <td>7.7</td>\n",
              "      <td>5415.0</td>\n",
              "      <td>jealousy, toy, boy, friendship, friends, rival...</td>\n",
              "      <td>John Lasseter, Joss Whedon, Andrew Stanton, Jo...</td>\n",
              "      <td>Woody (voice), Buzz Lightyear (voice), Mr. Pot...</td>\n",
              "      <td>Tom Hanks, Tim Allen, Don Rickles, Jim Varney,...</td>\n",
              "    </tr>\n",
              "    <tr>\n",
              "      <th>1</th>\n",
              "      <td>False</td>\n",
              "      <td>65000000</td>\n",
              "      <td>Adventure, Fantasy, Family</td>\n",
              "      <td>8844</td>\n",
              "      <td>en</td>\n",
              "      <td>Jumanji</td>\n",
              "      <td>When siblings Judy and Peter discover an encha...</td>\n",
              "      <td>17.015539</td>\n",
              "      <td>TriStar Pictures, Teitler Film, Interscope Com...</td>\n",
              "      <td>United States of America</td>\n",
              "      <td>...</td>\n",
              "      <td>262797249.0</td>\n",
              "      <td>104.0</td>\n",
              "      <td>English, Français</td>\n",
              "      <td>Roll the dice and unleash the excitement!</td>\n",
              "      <td>6.9</td>\n",
              "      <td>2413.0</td>\n",
              "      <td>board game, disappearance, based on children's...</td>\n",
              "      <td>Larry J. Franco, Jonathan Hensleigh, James Hor...</td>\n",
              "      <td>Alan Parrish, Samuel Alan Parrish / Van Pelt, ...</td>\n",
              "      <td>Robin Williams, Jonathan Hyde, Kirsten Dunst, ...</td>\n",
              "    </tr>\n",
              "    <tr>\n",
              "      <th>2</th>\n",
              "      <td>False</td>\n",
              "      <td>0</td>\n",
              "      <td>Romance, Comedy</td>\n",
              "      <td>15602</td>\n",
              "      <td>en</td>\n",
              "      <td>Grumpier Old Men</td>\n",
              "      <td>A family wedding reignites the ancient feud be...</td>\n",
              "      <td>11.7129</td>\n",
              "      <td>Warner Bros., Lancaster Gate</td>\n",
              "      <td>United States of America</td>\n",
              "      <td>...</td>\n",
              "      <td>0.0</td>\n",
              "      <td>101.0</td>\n",
              "      <td>English</td>\n",
              "      <td>Still Yelling. Still Fighting. Still Ready for...</td>\n",
              "      <td>6.5</td>\n",
              "      <td>92.0</td>\n",
              "      <td>fishing, best friend, duringcreditsstinger, ol...</td>\n",
              "      <td>Howard Deutch, Mark Steven Johnson, Mark Steve...</td>\n",
              "      <td>Max Goldman, John Gustafson, Ariel Gustafson, ...</td>\n",
              "      <td>Walter Matthau, Jack Lemmon, Ann-Margret, Soph...</td>\n",
              "    </tr>\n",
              "  </tbody>\n",
              "</table>\n",
              "<p>3 rows × 21 columns</p>\n",
              "</div>\n",
              "      <button class=\"colab-df-convert\" onclick=\"convertToInteractive('df-a63d2350-b713-45fc-9ae2-251cf2215d63')\"\n",
              "              title=\"Convert this dataframe to an interactive table.\"\n",
              "              style=\"display:none;\">\n",
              "        \n",
              "  <svg xmlns=\"http://www.w3.org/2000/svg\" height=\"24px\"viewBox=\"0 0 24 24\"\n",
              "       width=\"24px\">\n",
              "    <path d=\"M0 0h24v24H0V0z\" fill=\"none\"/>\n",
              "    <path d=\"M18.56 5.44l.94 2.06.94-2.06 2.06-.94-2.06-.94-.94-2.06-.94 2.06-2.06.94zm-11 1L8.5 8.5l.94-2.06 2.06-.94-2.06-.94L8.5 2.5l-.94 2.06-2.06.94zm10 10l.94 2.06.94-2.06 2.06-.94-2.06-.94-.94-2.06-.94 2.06-2.06.94z\"/><path d=\"M17.41 7.96l-1.37-1.37c-.4-.4-.92-.59-1.43-.59-.52 0-1.04.2-1.43.59L10.3 9.45l-7.72 7.72c-.78.78-.78 2.05 0 2.83L4 21.41c.39.39.9.59 1.41.59.51 0 1.02-.2 1.41-.59l7.78-7.78 2.81-2.81c.8-.78.8-2.07 0-2.86zM5.41 20L4 18.59l7.72-7.72 1.47 1.35L5.41 20z\"/>\n",
              "  </svg>\n",
              "      </button>\n",
              "      \n",
              "  <style>\n",
              "    .colab-df-container {\n",
              "      display:flex;\n",
              "      flex-wrap:wrap;\n",
              "      gap: 12px;\n",
              "    }\n",
              "\n",
              "    .colab-df-convert {\n",
              "      background-color: #E8F0FE;\n",
              "      border: none;\n",
              "      border-radius: 50%;\n",
              "      cursor: pointer;\n",
              "      display: none;\n",
              "      fill: #1967D2;\n",
              "      height: 32px;\n",
              "      padding: 0 0 0 0;\n",
              "      width: 32px;\n",
              "    }\n",
              "\n",
              "    .colab-df-convert:hover {\n",
              "      background-color: #E2EBFA;\n",
              "      box-shadow: 0px 1px 2px rgba(60, 64, 67, 0.3), 0px 1px 3px 1px rgba(60, 64, 67, 0.15);\n",
              "      fill: #174EA6;\n",
              "    }\n",
              "\n",
              "    [theme=dark] .colab-df-convert {\n",
              "      background-color: #3B4455;\n",
              "      fill: #D2E3FC;\n",
              "    }\n",
              "\n",
              "    [theme=dark] .colab-df-convert:hover {\n",
              "      background-color: #434B5C;\n",
              "      box-shadow: 0px 1px 3px 1px rgba(0, 0, 0, 0.15);\n",
              "      filter: drop-shadow(0px 1px 2px rgba(0, 0, 0, 0.3));\n",
              "      fill: #FFFFFF;\n",
              "    }\n",
              "  </style>\n",
              "\n",
              "      <script>\n",
              "        const buttonEl =\n",
              "          document.querySelector('#df-a63d2350-b713-45fc-9ae2-251cf2215d63 button.colab-df-convert');\n",
              "        buttonEl.style.display =\n",
              "          google.colab.kernel.accessAllowed ? 'block' : 'none';\n",
              "\n",
              "        async function convertToInteractive(key) {\n",
              "          const element = document.querySelector('#df-a63d2350-b713-45fc-9ae2-251cf2215d63');\n",
              "          const dataTable =\n",
              "            await google.colab.kernel.invokeFunction('convertToInteractive',\n",
              "                                                     [key], {});\n",
              "          if (!dataTable) return;\n",
              "\n",
              "          const docLinkHtml = 'Like what you see? Visit the ' +\n",
              "            '<a target=\"_blank\" href=https://colab.research.google.com/notebooks/data_table.ipynb>data table notebook</a>'\n",
              "            + ' to learn more about interactive tables.';\n",
              "          element.innerHTML = '';\n",
              "          dataTable['output_type'] = 'display_data';\n",
              "          await google.colab.output.renderOutput(dataTable, element);\n",
              "          const docLink = document.createElement('div');\n",
              "          docLink.innerHTML = docLinkHtml;\n",
              "          element.appendChild(docLink);\n",
              "        }\n",
              "      </script>\n",
              "    </div>\n",
              "  </div>\n",
              "  "
            ]
          },
          "metadata": {},
          "execution_count": 7
        }
      ]
    },
    {
      "cell_type": "code",
      "source": [
        "ratings_df.head(3)"
      ],
      "metadata": {
        "colab": {
          "base_uri": "https://localhost:8080/",
          "height": 143
        },
        "id": "hnZVhqf9TQyE",
        "outputId": "3a2e5192-e3da-4355-fb04-99f477b82c12"
      },
      "execution_count": 8,
      "outputs": [
        {
          "output_type": "execute_result",
          "data": {
            "text/plain": [
              "   userId  movieId  rating                date original_title  \\\n",
              "0       1     1371     2.5 2009-12-14 02:52:15      Rocky III   \n",
              "1       1     1405     1.0 2009-12-14 02:53:23          Greed   \n",
              "2       1     2105     4.0 2009-12-14 02:52:19   American Pie   \n",
              "\n",
              "            genres                                           overview  \n",
              "0            Drama  Now the world champion, Rocky Balboa is living...  \n",
              "1   Drama, History  Greed is the classic 1924 silent film by Erich...  \n",
              "2  Comedy, Romance  At a high-school party, four friends find that...  "
            ],
            "text/html": [
              "\n",
              "  <div id=\"df-c14840e6-1ad4-43cb-8924-256520646d1a\">\n",
              "    <div class=\"colab-df-container\">\n",
              "      <div>\n",
              "<style scoped>\n",
              "    .dataframe tbody tr th:only-of-type {\n",
              "        vertical-align: middle;\n",
              "    }\n",
              "\n",
              "    .dataframe tbody tr th {\n",
              "        vertical-align: top;\n",
              "    }\n",
              "\n",
              "    .dataframe thead th {\n",
              "        text-align: right;\n",
              "    }\n",
              "</style>\n",
              "<table border=\"1\" class=\"dataframe\">\n",
              "  <thead>\n",
              "    <tr style=\"text-align: right;\">\n",
              "      <th></th>\n",
              "      <th>userId</th>\n",
              "      <th>movieId</th>\n",
              "      <th>rating</th>\n",
              "      <th>date</th>\n",
              "      <th>original_title</th>\n",
              "      <th>genres</th>\n",
              "      <th>overview</th>\n",
              "    </tr>\n",
              "  </thead>\n",
              "  <tbody>\n",
              "    <tr>\n",
              "      <th>0</th>\n",
              "      <td>1</td>\n",
              "      <td>1371</td>\n",
              "      <td>2.5</td>\n",
              "      <td>2009-12-14 02:52:15</td>\n",
              "      <td>Rocky III</td>\n",
              "      <td>Drama</td>\n",
              "      <td>Now the world champion, Rocky Balboa is living...</td>\n",
              "    </tr>\n",
              "    <tr>\n",
              "      <th>1</th>\n",
              "      <td>1</td>\n",
              "      <td>1405</td>\n",
              "      <td>1.0</td>\n",
              "      <td>2009-12-14 02:53:23</td>\n",
              "      <td>Greed</td>\n",
              "      <td>Drama, History</td>\n",
              "      <td>Greed is the classic 1924 silent film by Erich...</td>\n",
              "    </tr>\n",
              "    <tr>\n",
              "      <th>2</th>\n",
              "      <td>1</td>\n",
              "      <td>2105</td>\n",
              "      <td>4.0</td>\n",
              "      <td>2009-12-14 02:52:19</td>\n",
              "      <td>American Pie</td>\n",
              "      <td>Comedy, Romance</td>\n",
              "      <td>At a high-school party, four friends find that...</td>\n",
              "    </tr>\n",
              "  </tbody>\n",
              "</table>\n",
              "</div>\n",
              "      <button class=\"colab-df-convert\" onclick=\"convertToInteractive('df-c14840e6-1ad4-43cb-8924-256520646d1a')\"\n",
              "              title=\"Convert this dataframe to an interactive table.\"\n",
              "              style=\"display:none;\">\n",
              "        \n",
              "  <svg xmlns=\"http://www.w3.org/2000/svg\" height=\"24px\"viewBox=\"0 0 24 24\"\n",
              "       width=\"24px\">\n",
              "    <path d=\"M0 0h24v24H0V0z\" fill=\"none\"/>\n",
              "    <path d=\"M18.56 5.44l.94 2.06.94-2.06 2.06-.94-2.06-.94-.94-2.06-.94 2.06-2.06.94zm-11 1L8.5 8.5l.94-2.06 2.06-.94-2.06-.94L8.5 2.5l-.94 2.06-2.06.94zm10 10l.94 2.06.94-2.06 2.06-.94-2.06-.94-.94-2.06-.94 2.06-2.06.94z\"/><path d=\"M17.41 7.96l-1.37-1.37c-.4-.4-.92-.59-1.43-.59-.52 0-1.04.2-1.43.59L10.3 9.45l-7.72 7.72c-.78.78-.78 2.05 0 2.83L4 21.41c.39.39.9.59 1.41.59.51 0 1.02-.2 1.41-.59l7.78-7.78 2.81-2.81c.8-.78.8-2.07 0-2.86zM5.41 20L4 18.59l7.72-7.72 1.47 1.35L5.41 20z\"/>\n",
              "  </svg>\n",
              "      </button>\n",
              "      \n",
              "  <style>\n",
              "    .colab-df-container {\n",
              "      display:flex;\n",
              "      flex-wrap:wrap;\n",
              "      gap: 12px;\n",
              "    }\n",
              "\n",
              "    .colab-df-convert {\n",
              "      background-color: #E8F0FE;\n",
              "      border: none;\n",
              "      border-radius: 50%;\n",
              "      cursor: pointer;\n",
              "      display: none;\n",
              "      fill: #1967D2;\n",
              "      height: 32px;\n",
              "      padding: 0 0 0 0;\n",
              "      width: 32px;\n",
              "    }\n",
              "\n",
              "    .colab-df-convert:hover {\n",
              "      background-color: #E2EBFA;\n",
              "      box-shadow: 0px 1px 2px rgba(60, 64, 67, 0.3), 0px 1px 3px 1px rgba(60, 64, 67, 0.15);\n",
              "      fill: #174EA6;\n",
              "    }\n",
              "\n",
              "    [theme=dark] .colab-df-convert {\n",
              "      background-color: #3B4455;\n",
              "      fill: #D2E3FC;\n",
              "    }\n",
              "\n",
              "    [theme=dark] .colab-df-convert:hover {\n",
              "      background-color: #434B5C;\n",
              "      box-shadow: 0px 1px 3px 1px rgba(0, 0, 0, 0.15);\n",
              "      filter: drop-shadow(0px 1px 2px rgba(0, 0, 0, 0.3));\n",
              "      fill: #FFFFFF;\n",
              "    }\n",
              "  </style>\n",
              "\n",
              "      <script>\n",
              "        const buttonEl =\n",
              "          document.querySelector('#df-c14840e6-1ad4-43cb-8924-256520646d1a button.colab-df-convert');\n",
              "        buttonEl.style.display =\n",
              "          google.colab.kernel.accessAllowed ? 'block' : 'none';\n",
              "\n",
              "        async function convertToInteractive(key) {\n",
              "          const element = document.querySelector('#df-c14840e6-1ad4-43cb-8924-256520646d1a');\n",
              "          const dataTable =\n",
              "            await google.colab.kernel.invokeFunction('convertToInteractive',\n",
              "                                                     [key], {});\n",
              "          if (!dataTable) return;\n",
              "\n",
              "          const docLinkHtml = 'Like what you see? Visit the ' +\n",
              "            '<a target=\"_blank\" href=https://colab.research.google.com/notebooks/data_table.ipynb>data table notebook</a>'\n",
              "            + ' to learn more about interactive tables.';\n",
              "          element.innerHTML = '';\n",
              "          dataTable['output_type'] = 'display_data';\n",
              "          await google.colab.output.renderOutput(dataTable, element);\n",
              "          const docLink = document.createElement('div');\n",
              "          docLink.innerHTML = docLinkHtml;\n",
              "          element.appendChild(docLink);\n",
              "        }\n",
              "      </script>\n",
              "    </div>\n",
              "  </div>\n",
              "  "
            ]
          },
          "metadata": {},
          "execution_count": 8
        }
      ]
    },
    {
      "cell_type": "code",
      "source": [
        "movies_df.head(3)"
      ],
      "metadata": {
        "colab": {
          "base_uri": "https://localhost:8080/",
          "height": 143
        },
        "id": "KXcqJHGMTTYL",
        "outputId": "6462f61d-44a7-4da6-91e5-55144f9d06a7"
      },
      "execution_count": 9,
      "outputs": [
        {
          "output_type": "execute_result",
          "data": {
            "text/plain": [
              "   movieId    original_title\n",
              "0      862         Toy Story\n",
              "1     8844           Jumanji\n",
              "2    15602  Grumpier Old Men"
            ],
            "text/html": [
              "\n",
              "  <div id=\"df-bd45f0df-0124-4436-baa2-a3c2add974f3\">\n",
              "    <div class=\"colab-df-container\">\n",
              "      <div>\n",
              "<style scoped>\n",
              "    .dataframe tbody tr th:only-of-type {\n",
              "        vertical-align: middle;\n",
              "    }\n",
              "\n",
              "    .dataframe tbody tr th {\n",
              "        vertical-align: top;\n",
              "    }\n",
              "\n",
              "    .dataframe thead th {\n",
              "        text-align: right;\n",
              "    }\n",
              "</style>\n",
              "<table border=\"1\" class=\"dataframe\">\n",
              "  <thead>\n",
              "    <tr style=\"text-align: right;\">\n",
              "      <th></th>\n",
              "      <th>movieId</th>\n",
              "      <th>original_title</th>\n",
              "    </tr>\n",
              "  </thead>\n",
              "  <tbody>\n",
              "    <tr>\n",
              "      <th>0</th>\n",
              "      <td>862</td>\n",
              "      <td>Toy Story</td>\n",
              "    </tr>\n",
              "    <tr>\n",
              "      <th>1</th>\n",
              "      <td>8844</td>\n",
              "      <td>Jumanji</td>\n",
              "    </tr>\n",
              "    <tr>\n",
              "      <th>2</th>\n",
              "      <td>15602</td>\n",
              "      <td>Grumpier Old Men</td>\n",
              "    </tr>\n",
              "  </tbody>\n",
              "</table>\n",
              "</div>\n",
              "      <button class=\"colab-df-convert\" onclick=\"convertToInteractive('df-bd45f0df-0124-4436-baa2-a3c2add974f3')\"\n",
              "              title=\"Convert this dataframe to an interactive table.\"\n",
              "              style=\"display:none;\">\n",
              "        \n",
              "  <svg xmlns=\"http://www.w3.org/2000/svg\" height=\"24px\"viewBox=\"0 0 24 24\"\n",
              "       width=\"24px\">\n",
              "    <path d=\"M0 0h24v24H0V0z\" fill=\"none\"/>\n",
              "    <path d=\"M18.56 5.44l.94 2.06.94-2.06 2.06-.94-2.06-.94-.94-2.06-.94 2.06-2.06.94zm-11 1L8.5 8.5l.94-2.06 2.06-.94-2.06-.94L8.5 2.5l-.94 2.06-2.06.94zm10 10l.94 2.06.94-2.06 2.06-.94-2.06-.94-.94-2.06-.94 2.06-2.06.94z\"/><path d=\"M17.41 7.96l-1.37-1.37c-.4-.4-.92-.59-1.43-.59-.52 0-1.04.2-1.43.59L10.3 9.45l-7.72 7.72c-.78.78-.78 2.05 0 2.83L4 21.41c.39.39.9.59 1.41.59.51 0 1.02-.2 1.41-.59l7.78-7.78 2.81-2.81c.8-.78.8-2.07 0-2.86zM5.41 20L4 18.59l7.72-7.72 1.47 1.35L5.41 20z\"/>\n",
              "  </svg>\n",
              "      </button>\n",
              "      \n",
              "  <style>\n",
              "    .colab-df-container {\n",
              "      display:flex;\n",
              "      flex-wrap:wrap;\n",
              "      gap: 12px;\n",
              "    }\n",
              "\n",
              "    .colab-df-convert {\n",
              "      background-color: #E8F0FE;\n",
              "      border: none;\n",
              "      border-radius: 50%;\n",
              "      cursor: pointer;\n",
              "      display: none;\n",
              "      fill: #1967D2;\n",
              "      height: 32px;\n",
              "      padding: 0 0 0 0;\n",
              "      width: 32px;\n",
              "    }\n",
              "\n",
              "    .colab-df-convert:hover {\n",
              "      background-color: #E2EBFA;\n",
              "      box-shadow: 0px 1px 2px rgba(60, 64, 67, 0.3), 0px 1px 3px 1px rgba(60, 64, 67, 0.15);\n",
              "      fill: #174EA6;\n",
              "    }\n",
              "\n",
              "    [theme=dark] .colab-df-convert {\n",
              "      background-color: #3B4455;\n",
              "      fill: #D2E3FC;\n",
              "    }\n",
              "\n",
              "    [theme=dark] .colab-df-convert:hover {\n",
              "      background-color: #434B5C;\n",
              "      box-shadow: 0px 1px 3px 1px rgba(0, 0, 0, 0.15);\n",
              "      filter: drop-shadow(0px 1px 2px rgba(0, 0, 0, 0.3));\n",
              "      fill: #FFFFFF;\n",
              "    }\n",
              "  </style>\n",
              "\n",
              "      <script>\n",
              "        const buttonEl =\n",
              "          document.querySelector('#df-bd45f0df-0124-4436-baa2-a3c2add974f3 button.colab-df-convert');\n",
              "        buttonEl.style.display =\n",
              "          google.colab.kernel.accessAllowed ? 'block' : 'none';\n",
              "\n",
              "        async function convertToInteractive(key) {\n",
              "          const element = document.querySelector('#df-bd45f0df-0124-4436-baa2-a3c2add974f3');\n",
              "          const dataTable =\n",
              "            await google.colab.kernel.invokeFunction('convertToInteractive',\n",
              "                                                     [key], {});\n",
              "          if (!dataTable) return;\n",
              "\n",
              "          const docLinkHtml = 'Like what you see? Visit the ' +\n",
              "            '<a target=\"_blank\" href=https://colab.research.google.com/notebooks/data_table.ipynb>data table notebook</a>'\n",
              "            + ' to learn more about interactive tables.';\n",
              "          element.innerHTML = '';\n",
              "          dataTable['output_type'] = 'display_data';\n",
              "          await google.colab.output.renderOutput(dataTable, element);\n",
              "          const docLink = document.createElement('div');\n",
              "          docLink.innerHTML = docLinkHtml;\n",
              "          element.appendChild(docLink);\n",
              "        }\n",
              "      </script>\n",
              "    </div>\n",
              "  </div>\n",
              "  "
            ]
          },
          "metadata": {},
          "execution_count": 9
        }
      ]
    },
    {
      "cell_type": "code",
      "execution_count": 10,
      "metadata": {
        "id": "1geDFIq2AHG8",
        "colab": {
          "base_uri": "https://localhost:8080/"
        },
        "outputId": "ba994ebe-aeb6-4b41-a7a8-f5db991ff06b"
      },
      "outputs": [
        {
          "output_type": "stream",
          "name": "stdout",
          "text": [
            "Total Data: 43188\n"
          ]
        }
      ],
      "source": [
        "ratings_df['userId'] = ratings_df['userId'].astype(str)\n",
        "\n",
        "ratings = tf.data.Dataset.from_tensor_slices(dict(ratings_df[['userId', 'original_title', 'rating']]))\n",
        "movies = tf.data.Dataset.from_tensor_slices(dict(movies_df[['original_title']]))\n",
        "\n",
        "ratings = ratings.map(lambda x: {\n",
        "    \"original_title\": x[\"original_title\"],\n",
        "    \"userId\": x[\"userId\"],\n",
        "    \"rating\": float(x[\"rating\"])\n",
        "})\n",
        "\n",
        "movies = movies.map(lambda x: x[\"original_title\"])\n",
        "print(f'Total Data: {len(ratings)}')"
      ]
    },
    {
      "cell_type": "code",
      "execution_count": 11,
      "metadata": {
        "id": "YvrjYbcBAJkg"
      },
      "outputs": [],
      "source": [
        "shuffled = ratings.shuffle(100000, seed=42, reshuffle_each_iteration=False)\n",
        "train = ratings.take(35000)\n",
        "test = ratings.skip(35000).take(7777)"
      ]
    },
    {
      "cell_type": "code",
      "execution_count": 12,
      "metadata": {
        "id": "JItXPJTbALQt",
        "colab": {
          "base_uri": "https://localhost:8080/"
        },
        "outputId": "5c5eb79b-275f-4d00-f49d-b7aab9e5fa38"
      },
      "outputs": [
        {
          "output_type": "stream",
          "name": "stdout",
          "text": [
            "Unique Movies: 42373\n",
            "Unique users: 671\n"
          ]
        }
      ],
      "source": [
        "movie_titles = movies.batch(512)\n",
        "user_id = ratings.batch(512).map(lambda x: x[\"userId\"])\n",
        "\n",
        "unique_movie_titles = np.unique(np.concatenate(list(movie_titles)))\n",
        "unique_user_id = np.unique(np.concatenate(list(user_id)))\n",
        "\n",
        "print(f'Unique Movies: {len(unique_movie_titles)}')\n",
        "print(f'Unique users: {len(unique_user_id)}')"
      ]
    },
    {
      "cell_type": "code",
      "source": [
        "data_train = train.shuffle(100000).batch(128).cache()\n",
        "data_test = test.batch(512).cache()"
      ],
      "metadata": {
        "id": "ABNPtniCweGY"
      },
      "execution_count": 13,
      "outputs": []
    },
    {
      "cell_type": "code",
      "execution_count": 14,
      "metadata": {
        "id": "doimcT80mJKV"
      },
      "outputs": [],
      "source": [
        "class MovieModel(tfrs.models.Model):\n",
        "    def __init__(self, rating_weight: float, retrieval_weight: float) -> None:\n",
        "        super().__init__()\n",
        "        embedding_dimension = 64\n",
        "        \n",
        "        self.movie_model: tf.keras.layers.Layer = tf.keras.Sequential([\n",
        "            tf.keras.layers.StringLookup(\n",
        "                vocabulary=unique_movie_titles, mask_token=None),\n",
        "            tf.keras.layers.Embedding(\n",
        "                len(unique_movie_titles) + 1, embedding_dimension)\n",
        "        ])\n",
        "        \n",
        "        self.user_model: tf.keras.layers.Layer = tf.keras.Sequential([\n",
        "            tf.keras.layers.StringLookup(\n",
        "                vocabulary=unique_user_id, mask_token=None),\n",
        "            tf.keras.layers.Embedding(\n",
        "                len(unique_user_id) + 1, embedding_dimension)\n",
        "        ])\n",
        "        \n",
        "        self.rating_model = tf.keras.Sequential([\n",
        "            tf.keras.layers.Dense(256, activation='relu'),\n",
        "            tf.keras.layers.Dense(128, activation='relu'),\n",
        "            tf.keras.layers.Dense(1),\n",
        "        ])\n",
        "        \n",
        "        self.rating_task: tf.keras.layers.Layer = tfrs.tasks.Ranking(\n",
        "            loss=tf.keras.losses.MeanSquaredError(),\n",
        "            metrics=[tf.keras.metrics.RootMeanSquaredError()],\n",
        "        )\n",
        "        \n",
        "        self.retrieval_task: tf.keras.layers.Layer = tfrs.tasks.Retrieval(\n",
        "            metrics=tfrs.metrics.FactorizedTopK(\n",
        "                candidates=movies.batch(128).map(self.movie_model)\n",
        "            )\n",
        "        )\n",
        "\n",
        "        self.rating_weight = rating_weight\n",
        "        self.retrieval_weight = retrieval_weight\n",
        "\n",
        "    def call(self, features: Dict[Text, tf.Tensor]) -> tf.Tensor:\n",
        "        user_embeddings = self.user_model(features['userId'])\n",
        "        movie_embeddings = self.movie_model(features['original_title'])\n",
        "\n",
        "        return (\n",
        "            user_embeddings,\n",
        "            movie_embeddings,\n",
        "            self.rating_model(\n",
        "                tf.concat([user_embeddings, movie_embeddings], axis=1)\n",
        "            ),\n",
        "        )\n",
        "\n",
        "    def compute_loss(self, features: Dict[Text, tf.Tensor], training=False) -> tf.Tensor:\n",
        "        ratings = features.pop('rating')\n",
        "        user_embeddings, movie_embeddings, rating_predictions = self(features)\n",
        "        rating_loss = self.rating_task(\n",
        "            labels=ratings,\n",
        "            predictions=rating_predictions,\n",
        "        )\n",
        "        retrieval_loss = self.retrieval_task(user_embeddings, movie_embeddings)\n",
        "\n",
        "        return (self.rating_weight * rating_loss\n",
        "                + self.retrieval_weight * retrieval_loss)"
      ]
    },
    {
      "cell_type": "code",
      "execution_count": 15,
      "metadata": {
        "id": "9YovjbedAYzA",
        "colab": {
          "base_uri": "https://localhost:8080/"
        },
        "outputId": "e747f1b1-c066-48fb-ff77-635253c5c11e"
      },
      "outputs": [
        {
          "output_type": "stream",
          "name": "stdout",
          "text": [
            "Epoch 1/3\n",
            "274/274 [==============================] - 196s 702ms/step - root_mean_squared_error: 1.0399 - factorized_top_k/top_1_categorical_accuracy: 8.5714e-05 - factorized_top_k/top_5_categorical_accuracy: 0.0108 - factorized_top_k/top_10_categorical_accuracy: 0.0262 - factorized_top_k/top_50_categorical_accuracy: 0.1147 - factorized_top_k/top_100_categorical_accuracy: 0.1769 - loss: 610.4116 - regularization_loss: 0.0000e+00 - total_loss: 610.4116\n",
            "Epoch 2/3\n",
            "274/274 [==============================] - 188s 686ms/step - root_mean_squared_error: 0.9179 - factorized_top_k/top_1_categorical_accuracy: 2.5714e-04 - factorized_top_k/top_5_categorical_accuracy: 0.0218 - factorized_top_k/top_10_categorical_accuracy: 0.0500 - factorized_top_k/top_50_categorical_accuracy: 0.2104 - factorized_top_k/top_100_categorical_accuracy: 0.3280 - loss: 572.3751 - regularization_loss: 0.0000e+00 - total_loss: 572.3751\n",
            "Epoch 3/3\n",
            "274/274 [==============================] - 190s 692ms/step - root_mean_squared_error: 0.8910 - factorized_top_k/top_1_categorical_accuracy: 3.1429e-04 - factorized_top_k/top_5_categorical_accuracy: 0.0276 - factorized_top_k/top_10_categorical_accuracy: 0.0601 - factorized_top_k/top_50_categorical_accuracy: 0.2425 - factorized_top_k/top_100_categorical_accuracy: 0.3696 - loss: 543.6526 - regularization_loss: 0.0000e+00 - total_loss: 543.6526\n"
          ]
        },
        {
          "output_type": "execute_result",
          "data": {
            "text/plain": [
              "<keras.callbacks.History at 0x7f3b76aae2d0>"
            ]
          },
          "metadata": {},
          "execution_count": 15
        }
      ],
      "source": [
        "model = MovieModel(rating_weight=1.0, retrieval_weight=1.0)\n",
        "model.compile(optimizer=tf.keras.optimizers.Adagrad(0.07))\n",
        "model.fit(data_train, epochs=3)"
      ]
    },
    {
      "cell_type": "code",
      "execution_count": 16,
      "metadata": {
        "id": "WnL0fjqDAg67",
        "outputId": "31971848-f021-4441-aae9-569189f1af8c",
        "colab": {
          "base_uri": "https://localhost:8080/"
        }
      },
      "outputs": [
        {
          "output_type": "stream",
          "name": "stdout",
          "text": [
            "16/16 [==============================] - 19s 1s/step - root_mean_squared_error: 1.1147 - factorized_top_k/top_1_categorical_accuracy: 5.1434e-04 - factorized_top_k/top_5_categorical_accuracy: 0.0049 - factorized_top_k/top_10_categorical_accuracy: 0.0105 - factorized_top_k/top_50_categorical_accuracy: 0.0486 - factorized_top_k/top_100_categorical_accuracy: 0.0878 - loss: 2874.0205 - regularization_loss: 0.0000e+00 - total_loss: 2874.0205\n",
            "\n",
            "Retrieval top-100 accuracy: 0.088\n",
            "Ranking RMSE: 1.115\n"
          ]
        }
      ],
      "source": [
        "metrics = model.evaluate(data_test, return_dict=True)\n",
        "print(f\"\\nRetrieval top-100 accuracy: {metrics['factorized_top_k/top_100_categorical_accuracy']:.3f}\")\n",
        "print(f\"Ranking RMSE: {metrics['root_mean_squared_error']:.3f}\")"
      ]
    },
    {
      "cell_type": "code",
      "source": [
        "model.summary()"
      ],
      "metadata": {
        "colab": {
          "base_uri": "https://localhost:8080/"
        },
        "id": "pHK6rHOaPO5F",
        "outputId": "c197ec04-a6b7-44de-e54d-e9d72ce915f1"
      },
      "execution_count": 17,
      "outputs": [
        {
          "output_type": "stream",
          "name": "stdout",
          "text": [
            "Model: \"movie_model\"\n",
            "_________________________________________________________________\n",
            " Layer (type)                Output Shape              Param #   \n",
            "=================================================================\n",
            " sequential (Sequential)     (None, 64)                2711936   \n",
            "                                                                 \n",
            " sequential_1 (Sequential)   (None, 64)                43008     \n",
            "                                                                 \n",
            " sequential_2 (Sequential)   (None, 1)                 66049     \n",
            "                                                                 \n",
            " ranking (Ranking)           multiple                  0         \n",
            "                                                                 \n",
            " retrieval (Retrieval)       multiple                  1         \n",
            "                                                                 \n",
            "=================================================================\n",
            "Total params: 2,820,994\n",
            "Trainable params: 2,820,993\n",
            "Non-trainable params: 1\n",
            "_________________________________________________________________\n"
          ]
        }
      ]
    },
    {
      "cell_type": "code",
      "execution_count": 18,
      "metadata": {
        "id": "zauykHoPAjqM"
      },
      "outputs": [],
      "source": [
        "def predict_movie(user, n):\n",
        "  index = tfrs.layers.factorized_top_k.BruteForce(model.user_model)\n",
        "  index.index_from_dataset(\n",
        "      tf.data.Dataset.zip((movies.batch(100), movies.batch(100).map(model.movie_model)))\n",
        "      )\n",
        "  _, titles = index(tf.constant([str(user)]))\n",
        "    \n",
        "  print(f'Top {n} recommendations for user {user}:')\n",
        "  for i, title in enumerate(titles[0, :n].numpy()):\n",
        "    print(f'{i + 1}. {title.decode(\"utf-8\")}')"
      ]
    },
    {
      "cell_type": "code",
      "source": [
        "def predict_rating(user, movie):\n",
        "  movie_embeddings, user_embeddings, predicted_rating = model({\n",
        "      \"userId\": np.array([str(user)]),\n",
        "      \"original_title\": np.array([movie])\n",
        "      })\n",
        "    \n",
        "  print(f\"Predicted rating for {movie}: {predicted_rating.numpy()[0][0]}\")"
      ],
      "metadata": {
        "id": "k_C6UnqZcqeK"
      },
      "execution_count": 19,
      "outputs": []
    },
    {
      "cell_type": "code",
      "execution_count": 20,
      "metadata": {
        "id": "_VbQQoLtAmAM",
        "colab": {
          "base_uri": "https://localhost:8080/"
        },
        "outputId": "da84b2ea-f67f-4faf-fabe-19d63682ee8d"
      },
      "outputs": [
        {
          "output_type": "stream",
          "name": "stdout",
          "text": [
            "Top 5 recommendations for user 5:\n",
            "1. Ober\n",
            "2. مسافر\n",
            "3. New York Doll\n",
            "4. The Searchers\n",
            "5. The Garden of Eden\n"
          ]
        }
      ],
      "source": [
        "predict_movie(5, 5)"
      ]
    },
    {
      "cell_type": "code",
      "execution_count": 21,
      "metadata": {
        "id": "YsmrpHKNAoXw",
        "colab": {
          "base_uri": "https://localhost:8080/"
        },
        "outputId": "00c278dd-4bb9-4ecf-e444-cb212cfefa9d"
      },
      "outputs": [
        {
          "output_type": "stream",
          "name": "stdout",
          "text": [
            "Predicted rating for The Searchers: 3.4802255630493164\n"
          ]
        }
      ],
      "source": [
        "predict_rating(5, 'The Searchers')"
      ]
    }
  ],
  "metadata": {
    "colab": {
      "collapsed_sections": [],
      "provenance": []
    },
    "kernelspec": {
      "display_name": "Python 3 (ipykernel)",
      "language": "python",
      "name": "python3"
    },
    "language_info": {
      "codemirror_mode": {
        "name": "ipython",
        "version": 3
      },
      "file_extension": ".py",
      "mimetype": "text/x-python",
      "name": "python",
      "nbconvert_exporter": "python",
      "pygments_lexer": "ipython3",
      "version": "3.10.6"
    },
    "accelerator": "GPU"
  },
  "nbformat": 4,
  "nbformat_minor": 0
}